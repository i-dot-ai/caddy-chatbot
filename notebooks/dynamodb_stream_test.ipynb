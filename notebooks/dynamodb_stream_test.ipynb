{
 "cells": [
  {
   "cell_type": "markdown",
   "id": "867156a7c06e18e0",
   "metadata": {},
   "source": [
    "# Exploring DynamoDB Streams\n",
    "\n",
    "Streams in DynamoDB will update us when new events occur, which we'll need for supervision.  I'll use this to test them.\n",
    "\n",
    "I've added the below code to our database creation, which should then generate streams.  Now I need to try and read them.\n",
    "\n",
    "'''\n",
    "\n",
    "        StreamSpecification = {\n",
    "            'StreamEnabled': True,\n",
    "            'StreamViewType': 'NEW_AND_OLD_IMAGES'\n",
    "        }\n",
    "    )\n",
    "'''"
   ]
  },
  {
   "cell_type": "code",
   "execution_count": null,
   "id": "941189d9510aeba",
   "metadata": {},
   "outputs": [],
   "source": [
    "import os\n",
    "\n",
    "from dotenv import load_dotenv\n",
    "import boto3\n",
    "\n",
    "load_dotenv() "
   ]
  },
  {
   "cell_type": "code",
   "execution_count": null,
   "id": "c65c2ce08b0910ce",
   "metadata": {},
   "outputs": [],
   "source": [
    "\n",
    "# Initialize a DynamoDB Streams client pointing to your local setup\n",
    "client = boto3.client('dynamodbstreams', endpoint_url=\"http://localhost:8000\", region_name='eu-west-2',aws_access_key_id=os.getenv('DB_ACCESS_KEY_ID'), aws_secret_access_key=os.getenv('DB_SECRET_ACCESS_KEY'))\n",
    "\n",
    "# Get the Stream ARN\n",
    "response = client.list_streams(TableName='caddyMessages')\n",
    "response"
   ]
  },
  {
   "cell_type": "code",
   "execution_count": null,
   "id": "d71affb92c04041",
   "metadata": {},
   "outputs": [],
   "source": [
    "stream_arn = response['Streams'][0]['StreamArn']\n",
    "stream_arn"
   ]
  },
  {
   "cell_type": "code",
   "execution_count": null,
   "id": "f2e97f62e1fd58b6",
   "metadata": {},
   "outputs": [],
   "source": [
    "\n",
    "# Get a Shard ID\n",
    "shard_id = client.describe_stream(StreamArn=stream_arn)['StreamDescription']['Shards'][0]['ShardId']\n",
    "shard_id"
   ]
  },
  {
   "cell_type": "code",
   "execution_count": null,
   "id": "2bd865df40a0160f",
   "metadata": {},
   "outputs": [],
   "source": [
    "\n",
    "# Get Shard Iterator\n",
    "iterator = client.get_shard_iterator(\n",
    "    StreamArn=stream_arn,\n",
    "    ShardId=shard_id,\n",
    "    ShardIteratorType='LATEST'  # Can also use 'TRIM_HORIZON', 'AT_SEQUENCE_NUMBER', etc.\n",
    ")['ShardIterator']\n",
    "iterator"
   ]
  },
  {
   "cell_type": "code",
   "execution_count": null,
   "id": "158caaed4629a7b8",
   "metadata": {},
   "outputs": [],
   "source": [
    "\n",
    "# Get Records\n",
    "records_response = client.get_records(ShardIterator=iterator)\n",
    "records = records_response['Records']\n",
    "records"
   ]
  },
  {
   "cell_type": "code",
   "execution_count": null,
   "id": "e2ad1745e645a10b",
   "metadata": {},
   "outputs": [],
   "source": [
    "while True:\n",
    "    records_response = client.get_records(ShardIterator=iterator)\n",
    "    records = records_response['Records']\n",
    "    for record in records:\n",
    "        print(record)\n",
    "    iterator = records_response['NextShardIterator']\n"
   ]
  },
  {
   "cell_type": "markdown",
   "id": "4adffc591bdce47e",
   "metadata": {},
   "source": [
    "So here is an event:\n",
    "``````\n",
    "{'eventID': '3abae425-6b6a-4bec-8ee3-c0451642e7e8', 'eventName': 'INSERT', 'eventVersion': '1.1', 'eventSource': 'aws:dynamodb', 'awsRegion': 'ddblocal', 'dynamodb': {'ApproximateCreationDateTime': datetime.datetime(2023, 10, 27, 16, 11, tzinfo=tzlocal()), 'Keys': {'conversationId': {'S': 'None'}, 'messageId': {'S': '1093c7eb-5d51-4e40-976e-83b789a29f9e'}}, 'NewImage': {'llm_prompt': {'S': 'What do you think of Citizens Advice?'}, 'conversationId': {'S': 'None'}, 'messageId': {'S': '1093c7eb-5d51-4e40-976e-83b789a29f9e'}, 'text': {'S': 'What do you think of Citizens Advice?'}, 'timestamp': {'S': '2023-10-27T15:11:39.464543'}}, 'SequenceNumber': '000000000000000000005', 'SizeBytes': 249, 'StreamViewType': 'NEW_AND_OLD_IMAGES'}}\n",
    "```'''```"
   ]
  },
  {
   "cell_type": "code",
   "execution_count": null,
   "id": "8fae4f8f5c6202e3",
   "metadata": {},
   "outputs": [],
   "source": []
  }
 ],
 "metadata": {
  "kernelspec": {
   "display_name": "Python 3",
   "language": "python",
   "name": "python3"
  },
  "language_info": {
   "codemirror_mode": {
    "name": "ipython",
    "version": 2
   },
   "file_extension": ".py",
   "mimetype": "text/x-python",
   "name": "python",
   "nbconvert_exporter": "python",
   "pygments_lexer": "ipython2"
  }
 },
 "nbformat": 4,
 "nbformat_minor": 5
}
