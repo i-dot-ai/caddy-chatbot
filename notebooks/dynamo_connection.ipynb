{
 "cells": [
  {
   "cell_type": "markdown",
   "metadata": {},
   "source": [
    "# Connecting to DynamoDB\n",
    "We'll use this to explore connecting to our remote DynamoDB"
   ]
  },
  {
   "cell_type": "code",
   "execution_count": null,
   "metadata": {},
   "outputs": [],
   "source": [
    "import pydantic\n",
    "import uuid\n",
    "\n",
    "from datetime import datetime\n",
    "from typing import Union, List\n",
    "from pydantic.types import StrictBool\n",
    "\n",
    "# === Data Models ===\n",
    "\n",
    "\n",
    "class StatusResponse(pydantic.BaseModel):\n",
    "    status: str\n",
    "    uptime_seconds: float\n",
    "    version: str\n",
    "\n",
    "class chatClientMessage(pydantic.BaseModel):\n",
    "    user_id: int\n",
    "    conversation_id: int\n",
    "    message: str\n",
    "    client: str\n",
    "    timestamp: datetime = datetime.now()\n",
    "\n",
    "\n",
    "class conversationMessage(pydantic.BaseModel):\n",
    "    message_id: str = uuid.uuid4()\n",
    "    user_id: str\n",
    "    conversation_id: Union[str, None] = None\n",
    "    message: str\n",
    "    timestamp: datetime = datetime.now()\n",
    "    retrieved_documents: List = None\n",
    "    llm_prompt: Union[str, None] = None\n",
    "\n",
    "class user(pydantic.BaseModel):\n",
    "    user_id: str = uuid.uuid4()\n",
    "    email: str\n",
    "    created_at: datetime = datetime.now()\n",
    "    admin : StrictBool = False\n",
    "\n"
   ]
  },
  {
   "cell_type": "code",
   "execution_count": null,
   "metadata": {},
   "outputs": [],
   "source": [
    "test_message = conversationMessage(\n",
    "    user_id='1',\n",
    "    message='Hi I would like some help with my angry dog',\n",
    "    timestamp=datetime.utcnow(),\n",
    "    retrieved_documents=[],\n",
    ")\n",
    "\n",
    "test_message"
   ]
  },
  {
   "cell_type": "code",
   "execution_count": null,
   "metadata": {},
   "outputs": [],
   "source": [
    "test_user = user(\n",
    "    email='john@bob.com',\n",
    ")\n",
    "\n",
    "test_user"
   ]
  },
  {
   "cell_type": "code",
   "execution_count": null,
   "metadata": {},
   "outputs": [],
   "source": [
    "os.getenv('DB_SECRET_ACCESS_KEY')"
   ]
  },
  {
   "cell_type": "code",
   "execution_count": null,
   "metadata": {},
   "outputs": [],
   "source": [
    "import boto3\n",
    "import json\n",
    "import os\n",
    "\n",
    "# Initialize the DynamoDB client\n",
    "dynamodb = boto3.resource('dynamodb', region_name='eu-west-2',aws_access_key_id=os.getenv('DB_ACCESS_KEY_ID'), aws_secret_access_key=os.getenv('DB_SECRET_ACCESS_KEY'))\n",
    "message_table = dynamodb.Table('caddyMessages')\n",
    "users_table = dynamodb.Table('caddyUsers')\n",
    "\n",
    "\n",
    "def store_message(message : conversationMessage, table):\n",
    "\n",
    "    # Storing in DynamoDB\n",
    "    response = table.put_item(\n",
    "        Item={\n",
    "            'conversationId': str(message.conversation_id),\n",
    "            'messageId': str(message.message_id),\n",
    "            'text': message.message,\n",
    "            'timestamp': message.timestamp.isoformat(),\n",
    "        }\n",
    "    )\n",
    "\n",
    "    return {\n",
    "        'statusCode': 200,\n",
    "        'body': json.dumps({'message': 'Message stored successfully!'})\n",
    "    }\n"
   ]
  },
  {
   "cell_type": "code",
   "execution_count": null,
   "metadata": {},
   "outputs": [],
   "source": [
    "def store_user(user : conversationMessage, table):\n",
    "\n",
    "    # Storing in DynamoDB\n",
    "    response = table.put_item(\n",
    "        Item={\n",
    "            'userId': str(user.user_id),\n",
    "            'email': user.email,\n",
    "            'createdat': user.created_at.isoformat(),\n",
    "            'is_admin': user.is_admin\n",
    "        }\n",
    "    )\n",
    "\n",
    "    return {\n",
    "        'statusCode': 200,\n",
    "        'body': json.dumps({'message': 'User stored successfully!'})\n",
    "    }"
   ]
  },
  {
   "cell_type": "code",
   "execution_count": null,
   "metadata": {},
   "outputs": [],
   "source": [
    "store_message(test_message, message_table)"
   ]
  },
  {
   "cell_type": "code",
   "execution_count": null,
   "metadata": {},
   "outputs": [],
   "source": [
    "store_user(test_user, users_table)"
   ]
  },
  {
   "cell_type": "code",
   "execution_count": null,
   "metadata": {},
   "outputs": [],
   "source": [
    "find_item = message_table.get_item(Key={'messageId':1,\n",
    "                                'conversationId':1})\n",
    "find_item"
   ]
  }
 ],
 "metadata": {
  "kernelspec": {
   "display_name": "Python 3 (ipykernel)",
   "language": "python",
   "name": "python3"
  },
  "language_info": {
   "codemirror_mode": {
    "name": "ipython",
    "version": 3
   },
   "file_extension": ".py",
   "mimetype": "text/x-python",
   "name": "python",
   "nbconvert_exporter": "python",
   "pygments_lexer": "ipython3",
   "version": "3.11.5"
  }
 },
 "nbformat": 4,
 "nbformat_minor": 4
}
