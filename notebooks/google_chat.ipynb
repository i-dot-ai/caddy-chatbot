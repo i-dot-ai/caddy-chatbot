{
 "cells": [
  {
   "cell_type": "code",
   "execution_count": null,
   "metadata": {},
   "outputs": [],
   "source": [
    "from google.oauth2.credentials import Credentials\n",
    "from googleapiclient.discovery import build\n",
    "import google.auth\n",
    "\n",
    "def react_to_message(space_id, message_id):\n",
    "    # Load your saved OAuth2 credentials\n",
    "    \n",
    "\n",
    "    credentials, project = google.auth.default()\n",
    "\n",
    "    # Build the Chat API client\n",
    "    service = build('chat', 'v1', credentials=creds)\n",
    "\n",
    "    # Create reaction\n",
    "    reaction = {\n",
    "        'name': 'THUMBS_UP'  # This is just an example; check Google's documentation for the correct emoji name\n",
    "    }\n",
    "\n",
    "    # Call the API\n",
    "    service.spaces().messages().reactions().create(\n",
    "        parent=f'spaces/{space_id}/messages/{message_id}',\n",
    "        body=reaction\n",
    "    ).execute()\n",
    "\n",
    "react_to_message()\n"
   ]
  }
 ],
 "metadata": {
  "language_info": {
   "name": "python"
  }
 },
 "nbformat": 4,
 "nbformat_minor": 2
}
